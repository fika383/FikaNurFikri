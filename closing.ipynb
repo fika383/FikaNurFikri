{
 "cells": [
  {
   "cell_type": "code",
   "execution_count": null,
   "id": "c7fded7e-0332-4a6b-bfc1-5682b51c666d",
   "metadata": {},
   "outputs": [],
   "source": [
    "import cv2\n",
    "import numpy as np\n",
    "import matplotlib.pyplot as plt\n",
    "\n",
    "def proses_closing(file_gambar):\n",
    "    # Membaca gambar dalam mode grayscale\n",
    "    citra = cv2.imread(file_gambar, 0)\n",
    "\n",
    "    # Cek apakah gambar berhasil dibaca\n",
    "    if citra is None:\n",
    "        print(f\"Gagal membaca gambar: {file_gambar}\")\n",
    "        return\n",
    "\n",
    "    # Membuat elemen struktural (kernel)\n",
    "    elemen_struktural = cv2.getStructuringElement(cv2.MORPH_RECT, (5, 5))\n",
    "\n",
    "    # Menerapkan operasi closing (dilasi diikuti erosi)\n",
    "    citra_closing = cv2.morphologyEx(citra, cv2.MORPH_CLOSE, elemen_struktural)\n",
    "\n",
    "    # Menampilkan hasil\n",
    "    tampilkan_visual(citra, citra_closing, file_gambar)\n",
    "\n",
    "def tampilkan_visual(citra_awal, citra_closing, judul_file):\n",
    "    fig, axes = plt.subplots(1, 2, figsize=(10, 5))\n",
    "    fig.suptitle(f'Proses Closing pada {judul_file}', fontsize=13)\n",
    "\n",
    "    axes[0].imshow(citra_awal, cmap='gray')\n",
    "    axes[0].set_title('Citra Asli')\n",
    "    axes[0].axis('off')\n",
    "\n",
    "    axes[1].imshow(citra_closing, cmap='gray')\n",
    "    axes[1].set_title('Citra Setelah Closing')\n",
    "    axes[1].axis('off')\n",
    "\n",
    "    plt.tight_layout()\n",
    "    plt.show()\n",
    "\n",
    "# Jalankan proses closing untuk kedua gambar\n",
    "proses_closing(\"1.png\")\n",
    "proses_closing(\"2.png\")\n"
   ]
  }
 ],
 "metadata": {
  "kernelspec": {
   "display_name": "Python 3 (ipykernel)",
   "language": "python",
   "name": "python3"
  },
  "language_info": {
   "codemirror_mode": {
    "name": "ipython",
    "version": 3
   },
   "file_extension": ".py",
   "mimetype": "text/x-python",
   "name": "python",
   "nbconvert_exporter": "python",
   "pygments_lexer": "ipython3",
   "version": "3.11.8"
  }
 },
 "nbformat": 4,
 "nbformat_minor": 5
}
