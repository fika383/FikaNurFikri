import cv2
import numpy as np
import matplotlib.pyplot as plt

def proses_closing(file_gambar):
    # Membaca gambar dalam mode grayscale
    citra = cv2.imread(file_gambar, 0)

    # Cek apakah gambar berhasil dibaca
    if citra is None:
        print(f"Gagal membaca gambar: {file_gambar}")
        return

    # Membuat elemen struktural (kernel)
    elemen_struktural = cv2.getStructuringElement(cv2.MORPH_RECT, (5, 5))

    # Menerapkan operasi closing (dilasi diikuti erosi)
    citra_closing = cv2.morphologyEx(citra, cv2.MORPH_CLOSE, elemen_struktural)

    # Menampilkan hasil
    tampilkan_visual(citra, citra_closing, file_gambar)

def tampilkan_visual(citra_awal, citra_closing, judul_file):
    fig, axes = plt.subplots(1, 2, figsize=(10, 5))
    fig.suptitle(f'Proses Closing pada {judul_file}', fontsize=13)

    axes[0].imshow(citra_awal, cmap='gray')
    axes[0].set_title('Citra Asli')
    axes[0].axis('off')

    axes[1].imshow(citra_closing, cmap='gray')
    axes[1].set_title('Citra Setelah Closing')
    axes[1].axis('off')

    plt.tight_layout()
    plt.show()

# Jalankan proses closing untuk kedua gambar
proses_closing("1.png")
proses_closing("2.png")

